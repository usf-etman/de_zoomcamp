{
 "cells": [
  {
   "cell_type": "markdown",
   "metadata": {
    "id": "mrTFv5nPClXh"
   },
   "source": [
    "# **Homework**: Data talks club data engineering zoomcamp Data loading workshop\n",
    "\n",
    "Hello folks, let's practice what we learned - Loading data with the best practices of data engineering.\n",
    "\n",
    "Here are the exercises we will do\n",
    "\n",
    "\n"
   ]
  },
  {
   "cell_type": "markdown",
   "metadata": {
    "id": "wLF4iXf-NR7t"
   },
   "source": [
    "# 1. Use a generator\n",
    "\n",
    "Remember the concept of generator? Let's practice using them to futher our understanding of how they work.\n",
    "\n",
    "Let's define a generator and then run it as practice.\n",
    "\n",
    "**Answer the following questions:**\n",
    "\n",
    "- **Question 1: What is the sum of the outputs of the generator for limit = 5?**\n",
    "- **Question 2: What is the 13th number yielded**\n",
    "\n",
    "I suggest practicing these questions without GPT as the purpose is to further your learning."
   ]
  },
  {
   "cell_type": "code",
   "execution_count": 18,
   "metadata": {
    "colab": {
     "base_uri": "https://localhost:8080/"
    },
    "id": "wLng-bDJN4jf",
    "outputId": "547683cb-5f56-4815-a903-d0d9578eb1f9"
   },
   "outputs": [
    {
     "name": "stdout",
     "output_type": "stream",
     "text": [
      "1.0\n",
      "1.4142135623730951\n",
      "1.7320508075688772\n",
      "2.0\n",
      "2.23606797749979\n"
     ]
    }
   ],
   "source": [
    "def square_root_generator(limit):\n",
    "    n = 1\n",
    "    while n <= limit:\n",
    "        yield n ** 0.5\n",
    "        n += 1\n",
    "\n",
    "# Example usage:\n",
    "limit = 5\n",
    "generator = square_root_generator(limit)\n",
    "\n",
    "for sqrt_value in generator:\n",
    "    print(sqrt_value)"
   ]
  },
  {
   "cell_type": "markdown",
   "metadata": {
    "id": "vjWhILzGJMpK"
   },
   "source": [
    "# 2. Append a generator to a table with existing data\n",
    "\n",
    "\n",
    "Below you have 2 generators. You will be tasked to load them to duckdb and answer some questions from the data\n",
    "\n",
    "1. Load the first generator and calculate the sum of ages of all people. Make sure to only load it once.\n",
    "2. Append the second generator to the same table as the first.\n",
    "3. **After correctly appending the data, calculate the sum of all ages of people.**\n",
    "\n",
    "\n"
   ]
  },
  {
   "cell_type": "markdown",
   "metadata": {
    "id": "pY4cFAWOSwN1"
   },
   "source": [
    "# 3. Merge a generator\n",
    "\n",
    "Re-use the generators from Exercise 2.\n",
    "\n",
    "A table's primary key needs to be created from the start, so load your data to a new table with primary key ID.\n",
    "\n",
    "Load your first generator first, and then load the second one with merge. Since they have overlapping IDs, some of the records from the first load should be replaced by the ones from the second load.\n",
    "\n",
    "After loading, you should have a total of 8 records, and ID 3 should have age 33.\n",
    "\n",
    "Question: **Calculate the sum of ages of all the people loaded as described above.**\n"
   ]
  },
  {
   "cell_type": "markdown",
   "metadata": {
    "id": "kKB2GTB9oVjr"
   },
   "source": [
    "# Solution: First make sure that the following modules are installed:"
   ]
  },
  {
   "cell_type": "code",
   "execution_count": null,
   "metadata": {
    "id": "xTVvtyqrfVNq"
   },
   "outputs": [],
   "source": [
    "#Install the dependencies\n",
    "%%capture\n",
    "!pip install dlt[duckdb]"
   ]
  },
  {
   "cell_type": "code",
   "execution_count": null,
   "metadata": {
    "id": "a2-PRBAkGC2K"
   },
   "outputs": [],
   "source": [
    "# to do: homework :)"
   ]
  },
  {
   "cell_type": "markdown",
   "metadata": {},
   "source": [
    "# Solution for Q1"
   ]
  },
  {
   "cell_type": "code",
   "execution_count": 20,
   "metadata": {},
   "outputs": [
    {
     "name": "stdout",
     "output_type": "stream",
     "text": [
      "1.0\n",
      "1.4142135623730951\n",
      "1.7320508075688772\n",
      "2.0\n",
      "2.23606797749979\n",
      "\n",
      "Sum of the outputs of the generator for limit = 5: 8.382332347441762\n"
     ]
    }
   ],
   "source": [
    "def square_root_generator(limit):\n",
    "    n = 1\n",
    "    while n <= limit:\n",
    "        yield n ** 0.5\n",
    "        n += 1\n",
    "\n",
    "# Example usage:\n",
    "limit = 5\n",
    "generator = square_root_generator(limit)\n",
    "\n",
    "sum = 0\n",
    "for sqrt_value in generator:\n",
    "    sum += sqrt_value\n",
    "    print(sqrt_value)\n",
    "\n",
    "print(\"\\nSum of the outputs of the generator for limit = 5:\", sum)"
   ]
  },
  {
   "cell_type": "markdown",
   "metadata": {},
   "source": [
    "# Solution for Q2"
   ]
  },
  {
   "cell_type": "code",
   "execution_count": 21,
   "metadata": {},
   "outputs": [
    {
     "name": "stdout",
     "output_type": "stream",
     "text": [
      "1.0\n",
      "1.4142135623730951\n",
      "1.7320508075688772\n",
      "2.0\n",
      "2.23606797749979\n",
      "2.449489742783178\n",
      "2.6457513110645907\n",
      "2.8284271247461903\n",
      "3.0\n",
      "3.1622776601683795\n",
      "3.3166247903554\n",
      "3.4641016151377544\n",
      "3.605551275463989\n",
      "\n",
      "The 13th number yielded by the generator: 3.605551275463989\n"
     ]
    }
   ],
   "source": [
    "def square_root_generator(limit):\n",
    "    n = 1\n",
    "    while n <= limit:\n",
    "        yield n ** 0.5\n",
    "        n += 1\n",
    "\n",
    "# Example usage:\n",
    "limit = 13\n",
    "generator = square_root_generator(limit)\n",
    "\n",
    "sum = 0\n",
    "for sqrt_value in generator:\n",
    "    sum += sqrt_value\n",
    "    print(sqrt_value)\n",
    "\n",
    "print(\"\\nThe 13th number yielded by the generator:\", sqrt_value)"
   ]
  },
  {
   "cell_type": "markdown",
   "metadata": {},
   "source": [
    "# Solution for Q3"
   ]
  },
  {
   "cell_type": "code",
   "execution_count": 6,
   "metadata": {},
   "outputs": [],
   "source": [
    "import dlt\n",
    "import duckdb"
   ]
  },
  {
   "cell_type": "code",
   "execution_count": 10,
   "metadata": {
    "colab": {
     "base_uri": "https://localhost:8080/"
    },
    "id": "2MoaQcdLBEk6",
    "outputId": "d2b93dc1-d83f-44ea-aeff-fdf51d75f7aa"
   },
   "outputs": [
    {
     "name": "stdout",
     "output_type": "stream",
     "text": [
      "Loaded tables: \n"
     ]
    },
    {
     "data": {
      "text/plain": [
       "┌─────────────────────┐\n",
       "│        name         │\n",
       "│       varchar       │\n",
       "├─────────────────────┤\n",
       "│ _dlt_loads          │\n",
       "│ _dlt_pipeline_state │\n",
       "│ _dlt_version        │\n",
       "│ people              │\n",
       "└─────────────────────┘"
      ]
     },
     "metadata": {},
     "output_type": "display_data"
    },
    {
     "name": "stdout",
     "output_type": "stream",
     "text": [
      "\n",
      "\n",
      "\n",
      " people table below:\n"
     ]
    },
    {
     "data": {
      "text/html": [
       "<div>\n",
       "<style scoped>\n",
       "    .dataframe tbody tr th:only-of-type {\n",
       "        vertical-align: middle;\n",
       "    }\n",
       "\n",
       "    .dataframe tbody tr th {\n",
       "        vertical-align: top;\n",
       "    }\n",
       "\n",
       "    .dataframe thead th {\n",
       "        text-align: right;\n",
       "    }\n",
       "</style>\n",
       "<table border=\"1\" class=\"dataframe\">\n",
       "  <thead>\n",
       "    <tr style=\"text-align: right;\">\n",
       "      <th></th>\n",
       "      <th>id</th>\n",
       "      <th>name</th>\n",
       "      <th>age</th>\n",
       "      <th>city</th>\n",
       "      <th>_dlt_load_id</th>\n",
       "      <th>_dlt_id</th>\n",
       "    </tr>\n",
       "  </thead>\n",
       "  <tbody>\n",
       "    <tr>\n",
       "      <th>0</th>\n",
       "      <td>1</td>\n",
       "      <td>Person_1</td>\n",
       "      <td>26</td>\n",
       "      <td>City_A</td>\n",
       "      <td>1708970417.0601387</td>\n",
       "      <td>gAAGV7Q8Gmq6Nw</td>\n",
       "    </tr>\n",
       "    <tr>\n",
       "      <th>1</th>\n",
       "      <td>2</td>\n",
       "      <td>Person_2</td>\n",
       "      <td>27</td>\n",
       "      <td>City_A</td>\n",
       "      <td>1708970417.0601387</td>\n",
       "      <td>nIivoVMDj08VAw</td>\n",
       "    </tr>\n",
       "    <tr>\n",
       "      <th>2</th>\n",
       "      <td>3</td>\n",
       "      <td>Person_3</td>\n",
       "      <td>28</td>\n",
       "      <td>City_A</td>\n",
       "      <td>1708970417.0601387</td>\n",
       "      <td>7Ez/qw2vXqRdKw</td>\n",
       "    </tr>\n",
       "    <tr>\n",
       "      <th>3</th>\n",
       "      <td>4</td>\n",
       "      <td>Person_4</td>\n",
       "      <td>29</td>\n",
       "      <td>City_A</td>\n",
       "      <td>1708970417.0601387</td>\n",
       "      <td>SwFT0fIMfjLpBg</td>\n",
       "    </tr>\n",
       "    <tr>\n",
       "      <th>4</th>\n",
       "      <td>5</td>\n",
       "      <td>Person_5</td>\n",
       "      <td>30</td>\n",
       "      <td>City_A</td>\n",
       "      <td>1708970417.0601387</td>\n",
       "      <td>LfIHobr+lumIrQ</td>\n",
       "    </tr>\n",
       "  </tbody>\n",
       "</table>\n",
       "</div>"
      ],
      "text/plain": [
       "   id      name  age    city        _dlt_load_id         _dlt_id\n",
       "0   1  Person_1   26  City_A  1708970417.0601387  gAAGV7Q8Gmq6Nw\n",
       "1   2  Person_2   27  City_A  1708970417.0601387  nIivoVMDj08VAw\n",
       "2   3  Person_3   28  City_A  1708970417.0601387  7Ez/qw2vXqRdKw\n",
       "3   4  Person_4   29  City_A  1708970417.0601387  SwFT0fIMfjLpBg\n",
       "4   5  Person_5   30  City_A  1708970417.0601387  LfIHobr+lumIrQ"
      ]
     },
     "metadata": {},
     "output_type": "display_data"
    },
    {
     "name": "stdout",
     "output_type": "stream",
     "text": [
      "\n",
      "\n",
      "\n",
      " Sum of ages of all people from first generator:\n"
     ]
    },
    {
     "data": {
      "text/html": [
       "<div>\n",
       "<style scoped>\n",
       "    .dataframe tbody tr th:only-of-type {\n",
       "        vertical-align: middle;\n",
       "    }\n",
       "\n",
       "    .dataframe tbody tr th {\n",
       "        vertical-align: top;\n",
       "    }\n",
       "\n",
       "    .dataframe thead th {\n",
       "        text-align: right;\n",
       "    }\n",
       "</style>\n",
       "<table border=\"1\" class=\"dataframe\">\n",
       "  <thead>\n",
       "    <tr style=\"text-align: right;\">\n",
       "      <th></th>\n",
       "      <th>sum(age)</th>\n",
       "    </tr>\n",
       "  </thead>\n",
       "  <tbody>\n",
       "    <tr>\n",
       "      <th>0</th>\n",
       "      <td>140.0</td>\n",
       "    </tr>\n",
       "  </tbody>\n",
       "</table>\n",
       "</div>"
      ],
      "text/plain": [
       "   sum(age)\n",
       "0     140.0"
      ]
     },
     "metadata": {},
     "output_type": "display_data"
    }
   ],
   "source": [
    "def people_1():\n",
    "    for i in range(1, 6):\n",
    "        yield {\"ID\": i, \"Name\": f\"Person_{i}\", \"Age\": 25 + i, \"City\": \"City_A\"}\n",
    "\n",
    "# define the connection to load to.\n",
    "# We now use duckdb, but you can switch to Bigquery later\n",
    "generators_pipeline = dlt.pipeline(destination='duckdb', dataset_name='people')\n",
    "\n",
    "\n",
    "# we can load any generator to a table at the pipeline destnation as follows:\n",
    "info = generators_pipeline.run(people_1(),\n",
    "\t\t\t\t\t\t\t\t\t\ttable_name=\"people\",\n",
    "\t\t\t\t\t\t\t\t\t\twrite_disposition=\"replace\")\n",
    "\n",
    "\n",
    "# connect to duckdb\n",
    "conn = duckdb.connect(f\"{generators_pipeline.pipeline_name}.duckdb\")\n",
    "\n",
    "# let's see the tables\n",
    "conn.sql(f\"SET search_path = '{generators_pipeline.dataset_name}'\")\n",
    "print('Loaded tables: ')\n",
    "display(conn.sql(\"show tables\"))\n",
    "\n",
    "# and the data\n",
    "print(\"\\n\\n\\n people table below:\")\n",
    "\n",
    "people = conn.sql(\"SELECT * FROM people\").df()\n",
    "display(people)\n",
    "\n",
    "# Sum of ages of all people from first generator\n",
    "print(\"\\n\\n\\n Sum of ages of all people from first generator:\")\n",
    "\n",
    "people = conn.sql(\"SELECT sum(age) FROM people\").df()\n",
    "display(people)"
   ]
  },
  {
   "cell_type": "code",
   "execution_count": 12,
   "metadata": {},
   "outputs": [
    {
     "name": "stdout",
     "output_type": "stream",
     "text": [
      "\n",
      "\n",
      "\n",
      " people table below:\n"
     ]
    },
    {
     "data": {
      "text/html": [
       "<div>\n",
       "<style scoped>\n",
       "    .dataframe tbody tr th:only-of-type {\n",
       "        vertical-align: middle;\n",
       "    }\n",
       "\n",
       "    .dataframe tbody tr th {\n",
       "        vertical-align: top;\n",
       "    }\n",
       "\n",
       "    .dataframe thead th {\n",
       "        text-align: right;\n",
       "    }\n",
       "</style>\n",
       "<table border=\"1\" class=\"dataframe\">\n",
       "  <thead>\n",
       "    <tr style=\"text-align: right;\">\n",
       "      <th></th>\n",
       "      <th>id</th>\n",
       "      <th>name</th>\n",
       "      <th>age</th>\n",
       "      <th>city</th>\n",
       "      <th>_dlt_load_id</th>\n",
       "      <th>_dlt_id</th>\n",
       "      <th>occupation</th>\n",
       "    </tr>\n",
       "  </thead>\n",
       "  <tbody>\n",
       "    <tr>\n",
       "      <th>0</th>\n",
       "      <td>1</td>\n",
       "      <td>Person_1</td>\n",
       "      <td>26</td>\n",
       "      <td>City_A</td>\n",
       "      <td>1708970417.0601387</td>\n",
       "      <td>gAAGV7Q8Gmq6Nw</td>\n",
       "      <td>None</td>\n",
       "    </tr>\n",
       "    <tr>\n",
       "      <th>1</th>\n",
       "      <td>2</td>\n",
       "      <td>Person_2</td>\n",
       "      <td>27</td>\n",
       "      <td>City_A</td>\n",
       "      <td>1708970417.0601387</td>\n",
       "      <td>nIivoVMDj08VAw</td>\n",
       "      <td>None</td>\n",
       "    </tr>\n",
       "    <tr>\n",
       "      <th>2</th>\n",
       "      <td>3</td>\n",
       "      <td>Person_3</td>\n",
       "      <td>28</td>\n",
       "      <td>City_A</td>\n",
       "      <td>1708970417.0601387</td>\n",
       "      <td>7Ez/qw2vXqRdKw</td>\n",
       "      <td>None</td>\n",
       "    </tr>\n",
       "    <tr>\n",
       "      <th>3</th>\n",
       "      <td>4</td>\n",
       "      <td>Person_4</td>\n",
       "      <td>29</td>\n",
       "      <td>City_A</td>\n",
       "      <td>1708970417.0601387</td>\n",
       "      <td>SwFT0fIMfjLpBg</td>\n",
       "      <td>None</td>\n",
       "    </tr>\n",
       "    <tr>\n",
       "      <th>4</th>\n",
       "      <td>5</td>\n",
       "      <td>Person_5</td>\n",
       "      <td>30</td>\n",
       "      <td>City_A</td>\n",
       "      <td>1708970417.0601387</td>\n",
       "      <td>LfIHobr+lumIrQ</td>\n",
       "      <td>None</td>\n",
       "    </tr>\n",
       "    <tr>\n",
       "      <th>5</th>\n",
       "      <td>3</td>\n",
       "      <td>Person_3</td>\n",
       "      <td>33</td>\n",
       "      <td>City_B</td>\n",
       "      <td>1708970534.147054</td>\n",
       "      <td>Q2ftAi1jaQ0k9g</td>\n",
       "      <td>Job_3</td>\n",
       "    </tr>\n",
       "    <tr>\n",
       "      <th>6</th>\n",
       "      <td>4</td>\n",
       "      <td>Person_4</td>\n",
       "      <td>34</td>\n",
       "      <td>City_B</td>\n",
       "      <td>1708970534.147054</td>\n",
       "      <td>ev3Oz21UB05jnA</td>\n",
       "      <td>Job_4</td>\n",
       "    </tr>\n",
       "    <tr>\n",
       "      <th>7</th>\n",
       "      <td>5</td>\n",
       "      <td>Person_5</td>\n",
       "      <td>35</td>\n",
       "      <td>City_B</td>\n",
       "      <td>1708970534.147054</td>\n",
       "      <td>UGAiy3IM57ArGA</td>\n",
       "      <td>Job_5</td>\n",
       "    </tr>\n",
       "    <tr>\n",
       "      <th>8</th>\n",
       "      <td>6</td>\n",
       "      <td>Person_6</td>\n",
       "      <td>36</td>\n",
       "      <td>City_B</td>\n",
       "      <td>1708970534.147054</td>\n",
       "      <td>QW0vPrzxRE/tXg</td>\n",
       "      <td>Job_6</td>\n",
       "    </tr>\n",
       "    <tr>\n",
       "      <th>9</th>\n",
       "      <td>7</td>\n",
       "      <td>Person_7</td>\n",
       "      <td>37</td>\n",
       "      <td>City_B</td>\n",
       "      <td>1708970534.147054</td>\n",
       "      <td>boV+pyGebOcDxw</td>\n",
       "      <td>Job_7</td>\n",
       "    </tr>\n",
       "    <tr>\n",
       "      <th>10</th>\n",
       "      <td>8</td>\n",
       "      <td>Person_8</td>\n",
       "      <td>38</td>\n",
       "      <td>City_B</td>\n",
       "      <td>1708970534.147054</td>\n",
       "      <td>p2QttA7buP34FA</td>\n",
       "      <td>Job_8</td>\n",
       "    </tr>\n",
       "  </tbody>\n",
       "</table>\n",
       "</div>"
      ],
      "text/plain": [
       "    id      name  age    city        _dlt_load_id         _dlt_id occupation\n",
       "0    1  Person_1   26  City_A  1708970417.0601387  gAAGV7Q8Gmq6Nw       None\n",
       "1    2  Person_2   27  City_A  1708970417.0601387  nIivoVMDj08VAw       None\n",
       "2    3  Person_3   28  City_A  1708970417.0601387  7Ez/qw2vXqRdKw       None\n",
       "3    4  Person_4   29  City_A  1708970417.0601387  SwFT0fIMfjLpBg       None\n",
       "4    5  Person_5   30  City_A  1708970417.0601387  LfIHobr+lumIrQ       None\n",
       "5    3  Person_3   33  City_B   1708970534.147054  Q2ftAi1jaQ0k9g      Job_3\n",
       "6    4  Person_4   34  City_B   1708970534.147054  ev3Oz21UB05jnA      Job_4\n",
       "7    5  Person_5   35  City_B   1708970534.147054  UGAiy3IM57ArGA      Job_5\n",
       "8    6  Person_6   36  City_B   1708970534.147054  QW0vPrzxRE/tXg      Job_6\n",
       "9    7  Person_7   37  City_B   1708970534.147054  boV+pyGebOcDxw      Job_7\n",
       "10   8  Person_8   38  City_B   1708970534.147054  p2QttA7buP34FA      Job_8"
      ]
     },
     "metadata": {},
     "output_type": "display_data"
    },
    {
     "name": "stdout",
     "output_type": "stream",
     "text": [
      "\n",
      "\n",
      "\n",
      " Sum of ages of all people from both generators:\n"
     ]
    },
    {
     "data": {
      "text/html": [
       "<div>\n",
       "<style scoped>\n",
       "    .dataframe tbody tr th:only-of-type {\n",
       "        vertical-align: middle;\n",
       "    }\n",
       "\n",
       "    .dataframe tbody tr th {\n",
       "        vertical-align: top;\n",
       "    }\n",
       "\n",
       "    .dataframe thead th {\n",
       "        text-align: right;\n",
       "    }\n",
       "</style>\n",
       "<table border=\"1\" class=\"dataframe\">\n",
       "  <thead>\n",
       "    <tr style=\"text-align: right;\">\n",
       "      <th></th>\n",
       "      <th>sum(age)</th>\n",
       "    </tr>\n",
       "  </thead>\n",
       "  <tbody>\n",
       "    <tr>\n",
       "      <th>0</th>\n",
       "      <td>353.0</td>\n",
       "    </tr>\n",
       "  </tbody>\n",
       "</table>\n",
       "</div>"
      ],
      "text/plain": [
       "   sum(age)\n",
       "0     353.0"
      ]
     },
     "metadata": {},
     "output_type": "display_data"
    }
   ],
   "source": [
    "def people_2():\n",
    "    for i in range(3, 9):\n",
    "        yield {\"ID\": i, \"Name\": f\"Person_{i}\", \"Age\": 30 + i, \"City\": \"City_B\", \"Occupation\": f\"Job_{i}\"}\n",
    "    \n",
    "# we can load any generator to a table at the pipeline destnation as follows:\n",
    "info = generators_pipeline.run(people_2(),\n",
    "\t\t\t\t\t\t\t\t\t\ttable_name=\"people\",\n",
    "\t\t\t\t\t\t\t\t\t\twrite_disposition=\"append\")\n",
    "\n",
    "# and the data\n",
    "print(\"\\n\\n\\n people table below:\")\n",
    "\n",
    "people = conn.sql(\"SELECT * FROM people\").df()\n",
    "display(people)\n",
    "\n",
    "# Sum of ages of all people\n",
    "print(\"\\n\\n\\n Sum of ages of all people from both generators:\")\n",
    "\n",
    "people = conn.sql(\"SELECT sum(age) FROM people\").df()\n",
    "display(people)"
   ]
  },
  {
   "cell_type": "markdown",
   "metadata": {},
   "source": [
    "# Solution for Q4"
   ]
  },
  {
   "cell_type": "code",
   "execution_count": 14,
   "metadata": {},
   "outputs": [
    {
     "data": {
      "text/html": [
       "<div>\n",
       "<style scoped>\n",
       "    .dataframe tbody tr th:only-of-type {\n",
       "        vertical-align: middle;\n",
       "    }\n",
       "\n",
       "    .dataframe tbody tr th {\n",
       "        vertical-align: top;\n",
       "    }\n",
       "\n",
       "    .dataframe thead th {\n",
       "        text-align: right;\n",
       "    }\n",
       "</style>\n",
       "<table border=\"1\" class=\"dataframe\">\n",
       "  <thead>\n",
       "    <tr style=\"text-align: right;\">\n",
       "      <th></th>\n",
       "      <th>id</th>\n",
       "      <th>name</th>\n",
       "      <th>age</th>\n",
       "      <th>city</th>\n",
       "      <th>_dlt_load_id</th>\n",
       "      <th>_dlt_id</th>\n",
       "    </tr>\n",
       "  </thead>\n",
       "  <tbody>\n",
       "    <tr>\n",
       "      <th>0</th>\n",
       "      <td>1</td>\n",
       "      <td>Person_1</td>\n",
       "      <td>26</td>\n",
       "      <td>City_A</td>\n",
       "      <td>1708970787.1505628</td>\n",
       "      <td>vHOEoOQmlqhw3w</td>\n",
       "    </tr>\n",
       "    <tr>\n",
       "      <th>1</th>\n",
       "      <td>2</td>\n",
       "      <td>Person_2</td>\n",
       "      <td>27</td>\n",
       "      <td>City_A</td>\n",
       "      <td>1708970787.1505628</td>\n",
       "      <td>HroI0kYM0tmwqg</td>\n",
       "    </tr>\n",
       "    <tr>\n",
       "      <th>2</th>\n",
       "      <td>3</td>\n",
       "      <td>Person_3</td>\n",
       "      <td>28</td>\n",
       "      <td>City_A</td>\n",
       "      <td>1708970787.1505628</td>\n",
       "      <td>3Znyqwgvo82+uQ</td>\n",
       "    </tr>\n",
       "    <tr>\n",
       "      <th>3</th>\n",
       "      <td>4</td>\n",
       "      <td>Person_4</td>\n",
       "      <td>29</td>\n",
       "      <td>City_A</td>\n",
       "      <td>1708970787.1505628</td>\n",
       "      <td>w1PIAdbWaPxsbA</td>\n",
       "    </tr>\n",
       "    <tr>\n",
       "      <th>4</th>\n",
       "      <td>5</td>\n",
       "      <td>Person_5</td>\n",
       "      <td>30</td>\n",
       "      <td>City_A</td>\n",
       "      <td>1708970787.1505628</td>\n",
       "      <td>Tj5o+79FvaaBbQ</td>\n",
       "    </tr>\n",
       "  </tbody>\n",
       "</table>\n",
       "</div>"
      ],
      "text/plain": [
       "   id      name  age    city        _dlt_load_id         _dlt_id\n",
       "0   1  Person_1   26  City_A  1708970787.1505628  vHOEoOQmlqhw3w\n",
       "1   2  Person_2   27  City_A  1708970787.1505628  HroI0kYM0tmwqg\n",
       "2   3  Person_3   28  City_A  1708970787.1505628  3Znyqwgvo82+uQ\n",
       "3   4  Person_4   29  City_A  1708970787.1505628  w1PIAdbWaPxsbA\n",
       "4   5  Person_5   30  City_A  1708970787.1505628  Tj5o+79FvaaBbQ"
      ]
     },
     "metadata": {},
     "output_type": "display_data"
    }
   ],
   "source": [
    "# we can load any generator to a table at the pipeline destnation as follows:\n",
    "info = generators_pipeline.run(people_1(),\n",
    "\t\t\t\t\t\t\t\t\t\ttable_name=\"merged_people\",\n",
    "\t\t\t\t\t\t\t\t\t\twrite_disposition=\"replace\",\n",
    "                              primary_key='id')\n",
    "\n",
    "people = conn.sql(\"SELECT * FROM merged_people\").df()\n",
    "display(people)"
   ]
  },
  {
   "cell_type": "code",
   "execution_count": 16,
   "metadata": {},
   "outputs": [
    {
     "data": {
      "text/html": [
       "<div>\n",
       "<style scoped>\n",
       "    .dataframe tbody tr th:only-of-type {\n",
       "        vertical-align: middle;\n",
       "    }\n",
       "\n",
       "    .dataframe tbody tr th {\n",
       "        vertical-align: top;\n",
       "    }\n",
       "\n",
       "    .dataframe thead th {\n",
       "        text-align: right;\n",
       "    }\n",
       "</style>\n",
       "<table border=\"1\" class=\"dataframe\">\n",
       "  <thead>\n",
       "    <tr style=\"text-align: right;\">\n",
       "      <th></th>\n",
       "      <th>id</th>\n",
       "      <th>name</th>\n",
       "      <th>age</th>\n",
       "      <th>city</th>\n",
       "      <th>_dlt_load_id</th>\n",
       "      <th>_dlt_id</th>\n",
       "      <th>occupation</th>\n",
       "    </tr>\n",
       "  </thead>\n",
       "  <tbody>\n",
       "    <tr>\n",
       "      <th>0</th>\n",
       "      <td>1</td>\n",
       "      <td>Person_1</td>\n",
       "      <td>26</td>\n",
       "      <td>City_A</td>\n",
       "      <td>1708970787.1505628</td>\n",
       "      <td>vHOEoOQmlqhw3w</td>\n",
       "      <td>None</td>\n",
       "    </tr>\n",
       "    <tr>\n",
       "      <th>1</th>\n",
       "      <td>2</td>\n",
       "      <td>Person_2</td>\n",
       "      <td>27</td>\n",
       "      <td>City_A</td>\n",
       "      <td>1708970787.1505628</td>\n",
       "      <td>HroI0kYM0tmwqg</td>\n",
       "      <td>None</td>\n",
       "    </tr>\n",
       "    <tr>\n",
       "      <th>2</th>\n",
       "      <td>5</td>\n",
       "      <td>Person_5</td>\n",
       "      <td>35</td>\n",
       "      <td>City_B</td>\n",
       "      <td>1708970815.8104696</td>\n",
       "      <td>bdDT+EtZmvIM3g</td>\n",
       "      <td>Job_5</td>\n",
       "    </tr>\n",
       "    <tr>\n",
       "      <th>3</th>\n",
       "      <td>4</td>\n",
       "      <td>Person_4</td>\n",
       "      <td>34</td>\n",
       "      <td>City_B</td>\n",
       "      <td>1708970815.8104696</td>\n",
       "      <td>U0Ei4Njq1tzXdA</td>\n",
       "      <td>Job_4</td>\n",
       "    </tr>\n",
       "    <tr>\n",
       "      <th>4</th>\n",
       "      <td>8</td>\n",
       "      <td>Person_8</td>\n",
       "      <td>38</td>\n",
       "      <td>City_B</td>\n",
       "      <td>1708970815.8104696</td>\n",
       "      <td>DWXXdoa9Ru9vsg</td>\n",
       "      <td>Job_8</td>\n",
       "    </tr>\n",
       "    <tr>\n",
       "      <th>5</th>\n",
       "      <td>7</td>\n",
       "      <td>Person_7</td>\n",
       "      <td>37</td>\n",
       "      <td>City_B</td>\n",
       "      <td>1708970815.8104696</td>\n",
       "      <td>sjW+jqeK1HeBRQ</td>\n",
       "      <td>Job_7</td>\n",
       "    </tr>\n",
       "    <tr>\n",
       "      <th>6</th>\n",
       "      <td>3</td>\n",
       "      <td>Person_3</td>\n",
       "      <td>33</td>\n",
       "      <td>City_B</td>\n",
       "      <td>1708970815.8104696</td>\n",
       "      <td>rqH96WASibDNYQ</td>\n",
       "      <td>Job_3</td>\n",
       "    </tr>\n",
       "    <tr>\n",
       "      <th>7</th>\n",
       "      <td>6</td>\n",
       "      <td>Person_6</td>\n",
       "      <td>36</td>\n",
       "      <td>City_B</td>\n",
       "      <td>1708970815.8104696</td>\n",
       "      <td>5tmTemE3Lhjyyw</td>\n",
       "      <td>Job_6</td>\n",
       "    </tr>\n",
       "  </tbody>\n",
       "</table>\n",
       "</div>"
      ],
      "text/plain": [
       "   id      name  age    city        _dlt_load_id         _dlt_id occupation\n",
       "0   1  Person_1   26  City_A  1708970787.1505628  vHOEoOQmlqhw3w       None\n",
       "1   2  Person_2   27  City_A  1708970787.1505628  HroI0kYM0tmwqg       None\n",
       "2   5  Person_5   35  City_B  1708970815.8104696  bdDT+EtZmvIM3g      Job_5\n",
       "3   4  Person_4   34  City_B  1708970815.8104696  U0Ei4Njq1tzXdA      Job_4\n",
       "4   8  Person_8   38  City_B  1708970815.8104696  DWXXdoa9Ru9vsg      Job_8\n",
       "5   7  Person_7   37  City_B  1708970815.8104696  sjW+jqeK1HeBRQ      Job_7\n",
       "6   3  Person_3   33  City_B  1708970815.8104696  rqH96WASibDNYQ      Job_3\n",
       "7   6  Person_6   36  City_B  1708970815.8104696  5tmTemE3Lhjyyw      Job_6"
      ]
     },
     "metadata": {},
     "output_type": "display_data"
    }
   ],
   "source": [
    "# we can load any generator to a table at the pipeline destnation as follows:\n",
    "info = generators_pipeline.run(people_2(),\n",
    "\t\t\t\t\t\t\t\t\t\ttable_name=\"merged_people\",\n",
    "\t\t\t\t\t\t\t\t\t\twrite_disposition=\"merge\",\n",
    "                              primary_key='id')\n",
    "\n",
    "people = conn.sql(\"SELECT * FROM merged_people\").df()\n",
    "display(people)"
   ]
  },
  {
   "cell_type": "code",
   "execution_count": 17,
   "metadata": {},
   "outputs": [
    {
     "data": {
      "text/html": [
       "<div>\n",
       "<style scoped>\n",
       "    .dataframe tbody tr th:only-of-type {\n",
       "        vertical-align: middle;\n",
       "    }\n",
       "\n",
       "    .dataframe tbody tr th {\n",
       "        vertical-align: top;\n",
       "    }\n",
       "\n",
       "    .dataframe thead th {\n",
       "        text-align: right;\n",
       "    }\n",
       "</style>\n",
       "<table border=\"1\" class=\"dataframe\">\n",
       "  <thead>\n",
       "    <tr style=\"text-align: right;\">\n",
       "      <th></th>\n",
       "      <th>sum(age)</th>\n",
       "    </tr>\n",
       "  </thead>\n",
       "  <tbody>\n",
       "    <tr>\n",
       "      <th>0</th>\n",
       "      <td>266.0</td>\n",
       "    </tr>\n",
       "  </tbody>\n",
       "</table>\n",
       "</div>"
      ],
      "text/plain": [
       "   sum(age)\n",
       "0     266.0"
      ]
     },
     "metadata": {},
     "output_type": "display_data"
    }
   ],
   "source": [
    "people = conn.sql(\"SELECT sum(age) FROM merged_people\").df()\n",
    "display(people)"
   ]
  },
  {
   "cell_type": "markdown",
   "metadata": {
    "id": "PoTJu4kbGG0z"
   },
   "source": [
    "Questions? difficulties? We are here to help.\n",
    "- DTC data engineering course channel: https://datatalks-club.slack.com/archives/C01FABYF2RG\n",
    "- dlt's DTC cohort channel: https://dlthub-community.slack.com/archives/C06GAEX2VNX"
   ]
  }
 ],
 "metadata": {
  "colab": {
   "provenance": []
  },
  "kernelspec": {
   "display_name": "Python 3 (ipykernel)",
   "language": "python",
   "name": "python3"
  },
  "language_info": {
   "codemirror_mode": {
    "name": "ipython",
    "version": 3
   },
   "file_extension": ".py",
   "mimetype": "text/x-python",
   "name": "python",
   "nbconvert_exporter": "python",
   "pygments_lexer": "ipython3",
   "version": "3.11.7"
  }
 },
 "nbformat": 4,
 "nbformat_minor": 4
}
